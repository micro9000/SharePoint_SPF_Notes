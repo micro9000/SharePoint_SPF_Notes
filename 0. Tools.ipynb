{
 "cells": [
  {
   "cell_type": "markdown",
   "metadata": {},
   "source": [
    "# Tools\n",
    "\n",
    "## Fluent UI\n",
    "\n",
    "Fluent UI - A collection of UX frameworks for creating beautiful, cross-platform apps that share code, design, and interaction behavior. https://developer.microsoft.com/en-us/fluentui#/\n",
    "\n",
    "Fluent UI React v9 - https://react.fluentui.dev/?path=/docs/concepts-introduction--docs\n",
    "https://github.com/microsoft/fluentui\n",
    "\n",
    "Fluent UI Insights and Training: https://learn.microsoft.com/en-us/shows/fluent-ui-insights/\n"
   ]
  },
  {
   "cell_type": "markdown",
   "metadata": {},
   "source": [
    "## SharePoint Online Management Shell\n"
   ]
  }
 ],
 "metadata": {
  "language_info": {
   "name": "python"
  }
 },
 "nbformat": 4,
 "nbformat_minor": 2
}
