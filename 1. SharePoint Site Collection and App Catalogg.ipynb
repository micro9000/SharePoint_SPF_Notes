{
 "cells": [
  {
   "cell_type": "markdown",
   "metadata": {},
   "source": [
    "# SharePoint Development Setup\n",
    "\n",
    "1. Create Site Collection\n",
    "   - Go to SharePoint Admin Center\n",
    "   - Sites -> Active Sites -> Create Communication Site\n",
    "2. Download and install SharePoint Online Management Shell (PowerShell module) - https://learn.microsoft.com/en-us/powershell/sharepoint/sharepoint-online/connect-sharepoint-online\n",
    "3. Create SharePoint App Catalog\n",
    "\n",
    "Note: App Catalog are now under Site Collection. The Tenant level App Catalog are now deprecated. Microsoft is now recommending to create App Catalog at Site Collection level.\n"
   ]
  },
  {
   "cell_type": "code",
   "execution_count": null,
   "metadata": {
    "dotnet_interactive": {
     "language": "pwsh"
    },
    "polyglot_notebook": {
     "kernelName": "pwsh"
    }
   },
   "outputs": [],
   "source": [
    "Install-Module -Name Microsoft.Online.SharePoint.PowerShell\n",
    "\n",
    "Connect-SPOService -Url https://87t1zf-admin.sharepoint.com -Credential admin@contoso.com"
   ]
  },
  {
   "cell_type": "code",
   "execution_count": null,
   "metadata": {
    "dotnet_interactive": {
     "language": "pwsh"
    },
    "polyglot_notebook": {
     "kernelName": "pwsh"
    }
   },
   "outputs": [],
   "source": [
    "# Create Site Collection's App Catalog\n",
    "# this will create new App Catalog named \"Apps for SharePoint\" list in the site collection (go to Site contents of your site collection)\n",
    "\n",
    "Add-SPOSiteCollectionAppCatalog -Site \"https://87t1zf.sharepoint.com/sites/SPFxTrainingSite\""
   ]
  },
  {
   "cell_type": "markdown",
   "metadata": {},
   "source": [
    "Info: App Catalog is the location where we store our SPFx solution\n",
    "\n",
    "Side note:\n",
    "\n",
    "When I open the \"Apps for SharePoint\" App catalog, where was a warning at the top of the page saying\n",
    "\"CDN improves performance by caching static assets closer to the browsers requesting them. Learn more about enabling CDN.\" https://learn.microsoft.com/en-us/microsoft-365/enterprise/office-365-cdn-quickstart?view=o365-worldwide\n"
   ]
  }
 ],
 "metadata": {
  "kernelspec": {
   "display_name": ".NET (C#)",
   "language": "C#",
   "name": ".net-csharp"
  },
  "polyglot_notebook": {
   "kernelInfo": {
    "defaultKernelName": "javascript",
    "items": [
     {
      "aliases": [],
      "languageName": "javascript",
      "name": "javascript"
     }
    ]
   }
  }
 },
 "nbformat": 4,
 "nbformat_minor": 2
}
