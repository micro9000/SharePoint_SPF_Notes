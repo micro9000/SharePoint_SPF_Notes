{
 "cells": [
  {
   "cell_type": "markdown",
   "metadata": {},
   "source": [
    "# SharePoint Workbench\n",
    "\n",
    "https://learn.microsoft.com/en-us/sharepoint/dev/spfx/set-up-your-developer-tenant\n",
    "\n",
    "SharePoint Workbench is a developer design surface that enables you to quickly preview and test web parts without deploying them in SharePoint.\n",
    "\n",
    "https://your-sharepoint-site/\\_layouts/workbench.aspx\n",
    "\n",
    "https://87t1zf.sharepoint.com/_layouts/15/workbench.aspx\n"
   ]
  }
 ],
 "metadata": {
  "language_info": {
   "name": "python"
  }
 },
 "nbformat": 4,
 "nbformat_minor": 2
}
