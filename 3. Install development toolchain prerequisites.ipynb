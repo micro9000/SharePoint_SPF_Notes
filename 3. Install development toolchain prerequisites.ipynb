{
 "cells": [
  {
   "cell_type": "markdown",
   "metadata": {},
   "source": [
    "# Install development toolchain prerequisites\n",
    "\n",
    "https://learn.microsoft.com/en-us/sharepoint/dev/spfx/set-up-your-development-environment#install-development-toolchain-prerequisites\n",
    "\n",
    "The SharePoint Framework development and build toolchain leverages various popular open-source tools. While most dependencies are included in each project, you need to install a few dependencies globally on your workstation.\n"
   ]
  },
  {
   "cell_type": "code",
   "execution_count": null,
   "metadata": {
    "vscode": {
     "languageId": "shellscript"
    }
   },
   "outputs": [],
   "source": [
    "npm install gulp-cli yo @microsoft/generator-sharepoint --global"
   ]
  },
  {
   "cell_type": "markdown",
   "metadata": {},
   "source": [
    "## Install Gulp\n",
    "\n",
    "Gulp is a JavaScript-based task runner used to automate repetitive tasks. The SharePoint Framework build toolchain uses Gulp tasks to build projects, create JavaScript bundles, and the resulting packages used to deploy solutions.\n",
    "\n",
    "## Install Yeoman\n",
    "\n",
    "Yeoman helps you kick-start new projects, and prescribes best practices and tools to help you stay productive. SharePoint client-side development tools include a Yeoman generator for creating new web parts. The generator provides common build tools, common boilerplate code, and a common playground website to host web parts for testing.\n",
    "\n",
    "## Install Yeoman SharePoint generator\n",
    "\n",
    "The Yeoman SharePoint web part generator helps you quickly create a SharePoint client-side solution project with the right toolchain and project structure.\n"
   ]
  },
  {
   "cell_type": "markdown",
   "metadata": {},
   "source": [
    "## Trusting the self-signed developer certificate\n",
    "\n",
    "Once a project has been created with the Yeoman generator for the SharePoint Framework, execute the following command from within the root folder of the project.\n",
    "\n",
    "`gulp trust-dev-cert`\n",
    "\n",
    "https://learn.microsoft.com/en-us/sharepoint/dev/spfx/set-up-your-development-environment#trusting-the-self-signed-developer-certificate\n"
   ]
  }
 ],
 "metadata": {
  "language_info": {
   "name": "python"
  }
 },
 "nbformat": 4,
 "nbformat_minor": 2
}
