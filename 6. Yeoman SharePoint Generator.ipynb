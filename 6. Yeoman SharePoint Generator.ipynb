{
 "cells": [
  {
   "cell_type": "markdown",
   "metadata": {},
   "source": [
    "# Yeoman SharePoint Generator command\n",
    "\n",
    "`yo @microsoft/sharepoint` - to create new project\n",
    "\n",
    "https://learn.microsoft.com/en-us/sharepoint/dev/spfx/web-parts/get-started/build-a-hello-world-web-part#web-part-render-method\n",
    "\n",
    "## Create multiple web part on a single project\n",
    "\n",
    "to add new web part to the same project, you just need to run the same command, and the yo utility will understand the solution has already been created. So will not ask you again all the questions on generating new project solution\n",
    "\n",
    "`yo  @microsoft/sharepoint`\n"
   ]
  }
 ],
 "metadata": {
  "language_info": {
   "name": "python"
  }
 },
 "nbformat": 4,
 "nbformat_minor": 2
}
