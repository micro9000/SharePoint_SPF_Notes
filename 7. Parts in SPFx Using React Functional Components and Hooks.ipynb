{
 "cells": [
  {
   "cell_type": "markdown",
   "metadata": {},
   "source": [
    "# Parts in SPFx Using React Functional Components and Hooks\n",
    "\n",
    "https://pnp.github.io/blog/post/spfx-webpart-using-react-functional-components-and-hooks/\n",
    "\n",
    "SPFx typically generates class component web parts by default. In this guide, we’ll begin by exploring the process of transforming these class components into functional components. Once we’ve made this conversion, we can then delve into utilizing React hooks to enhance the functionality of our SharePoint Framework web parts.\n"
   ]
  },
  {
   "cell_type": "code",
   "execution_count": null,
   "metadata": {
    "vscode": {
     "languageId": "javascript"
    }
   },
   "outputs": [],
   "source": [
    "//SPFx life cycle\n",
    "import * as React from \"react\";\n",
    "import styles from \"./ReactHooksDemo.module.scss\";\n",
    "import type { IReactHooksDemoProps } from \"./IReactHooksDemoProps\";\n",
    "\n",
    "const ReactHooksDemo: React.FunctionComponent<IReactHooksDemoProps> = (\n",
    "  props: IReactHooksDemoProps\n",
    ") => {\n",
    "  const { hasTeamsContext } = props;\n",
    "\n",
    "  const [count, setCount] = useState(0);\n",
    "\n",
    "  const incrementCount = () => {\n",
    "    console.log(\"Increment button clicked\");\n",
    "    setCount(count + 1);\n",
    "  };\n",
    "\n",
    "  //componentDidMount\n",
    "  useEffect(() => {\n",
    "    console.log(\"componentDidMount called.\");\n",
    "  }, []);\n",
    "\n",
    "  //componentDidUpdate\n",
    "  useEffect(() => {\n",
    "    console.log(\"componentDidUpdate called.\");\n",
    "  }, [count]);\n",
    "\n",
    "  //componentWillUnmount\n",
    "  useEffect(() => {\n",
    "    return () => {\n",
    "      console.log(\"componentWillUnmount called.\");\n",
    "    };\n",
    "  }, [count]);\n",
    "\n",
    "  return (\n",
    "    <section\n",
    "      className={`${styles.reactHooksDemo} ${\n",
    "        hasTeamsContext ? styles.teams : \"\"\n",
    "      }`}\n",
    "    >\n",
    "      <div className={styles.welcome}>\n",
    "        <h2>SPFx React Hook Example</h2>\n",
    "        <p>Count: {count}</p>\n",
    "        <button onClick={incrementCount}>Increment</button>\n",
    "      </div>\n",
    "    </section>\n",
    "  );\n",
    "};\n",
    "export default ReactHooksDemo;\n"
   ]
  }
 ],
 "metadata": {
  "language_info": {
   "name": "python"
  }
 },
 "nbformat": 4,
 "nbformat_minor": 2
}
