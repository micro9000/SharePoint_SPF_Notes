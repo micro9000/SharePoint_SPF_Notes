{
 "cells": [
  {
   "cell_type": "markdown",
   "metadata": {},
   "source": [
    "# Gulp commands (Build options)\n",
    "\n",
    "- `gulp clean`\n",
    "- `gulp test`\n",
    "- `gulp serve`\n",
    "- `gulp bundle`\n",
    "- `gulp bundle --ship` - production build\n",
    "- `gulp package-solution`\n",
    "- `gulp package-solution --ship` - production pkg\n"
   ]
  }
 ],
 "metadata": {
  "language_info": {
   "name": "python"
  }
 },
 "nbformat": 4,
 "nbformat_minor": 2
}
